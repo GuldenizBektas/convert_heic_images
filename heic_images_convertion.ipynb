{
  "cells": [
    {
      "cell_type": "code",
      "execution_count": 1,
      "metadata": {
        "id": "rAJzTU84dG7Y"
      },
      "outputs": [],
      "source": [
        "import tensorflow as tf"
      ]
    },
    {
      "cell_type": "code",
      "execution_count": null,
      "metadata": {
        "id": "3iblzBdddcGv"
      },
      "outputs": [],
      "source": [
        "!ls /content/drive/MyDrive/pencil_images # where my images located"
      ]
    },
    {
      "cell_type": "code",
      "execution_count": null,
      "metadata": {
        "id": "t6FMyTiZepwr"
      },
      "outputs": [],
      "source": [
        "# list images in a list\n",
        "# pass them to path and apply convertion "
      ]
    },
    {
      "cell_type": "code",
      "execution_count": 3,
      "metadata": {
        "colab": {
          "base_uri": "https://localhost:8080/"
        },
        "id": "5yvwiks-yf3U",
        "outputId": "4b1e9f39-cb0a-4cf8-aceb-6ddadc83dac0"
      },
      "outputs": [
        {
          "output_type": "stream",
          "name": "stdout",
          "text": [
            "Looking in indexes: https://pypi.org/simple, https://us-python.pkg.dev/colab-wheels/public/simple/\n",
            "Collecting pyheif\n",
            "  Downloading pyheif-0.7.1-cp38-cp38-manylinux_2_17_x86_64.manylinux2014_x86_64.whl (9.8 MB)\n",
            "\u001b[2K     \u001b[90m━━━━━━━━━━━━━━━━━━━━━━━━━━━━━━━━━━━━━━━━\u001b[0m \u001b[32m9.8/9.8 MB\u001b[0m \u001b[31m53.8 MB/s\u001b[0m eta \u001b[36m0:00:00\u001b[0m\n",
            "\u001b[?25hRequirement already satisfied: cffi>=1.0.0 in /usr/local/lib/python3.8/dist-packages (from pyheif) (1.15.1)\n",
            "Requirement already satisfied: pycparser in /usr/local/lib/python3.8/dist-packages (from cffi>=1.0.0->pyheif) (2.21)\n",
            "Installing collected packages: pyheif\n",
            "Successfully installed pyheif-0.7.1\n"
          ]
        }
      ],
      "source": [
        "!pip install pyheif # to convert heic images for Image lib"
      ]
    },
    {
      "cell_type": "code",
      "execution_count": 4,
      "metadata": {
        "id": "coZ3ZVxSknFz"
      },
      "outputs": [],
      "source": [
        "from PIL import Image"
      ]
    },
    {
      "cell_type": "code",
      "execution_count": null,
      "metadata": {
        "id": "T2yDPCp7kzSF"
      },
      "outputs": [],
      "source": [
        "import pyheif\n",
        "\n",
        "heif_file = pyheif.read_heif(\"/content/drive/MyDrive/pencil_images/IMG_1964.heic\")\n",
        "image = Image.frombytes(\n",
        "    heif_file.mode,\n",
        "    heif_file.size,\n",
        "    heif_file.data,\n",
        "    \"raw\",\n",
        ")\n",
        "\n",
        "image.save(\"./picture_name.png\", format(\"png\")) # converting to the desired type"
      ]
    },
    {
      "cell_type": "code",
      "execution_count": 20,
      "metadata": {
        "colab": {
          "base_uri": "https://localhost:8080/"
        },
        "id": "UwoRbKZFyozx",
        "outputId": "14e95491-e35b-4844-96ea-497dbfeaa89e"
      },
      "outputs": [
        {
          "output_type": "stream",
          "name": "stdout",
          "text": [
            "New directory is created!\n"
          ]
        }
      ],
      "source": [
        "import os\n",
        "\n",
        "# creating a folder to add new images with desired type\n",
        "path = \"/content/drive/MyDrive/pencil\"\n",
        "\n",
        "if not os.path.exists(path):\n",
        "  os.makedirs(path)\n",
        "  print(\"New directory is created!\")"
      ]
    },
    {
      "cell_type": "code",
      "execution_count": 21,
      "metadata": {
        "id": "Df1NRf8-0HUp",
        "colab": {
          "base_uri": "https://localhost:8080/"
        },
        "outputId": "8934b596-bc03-40cc-ffc7-607b3f76c5b6"
      },
      "outputs": [
        {
          "output_type": "execute_result",
          "data": {
            "text/plain": [
              "368"
            ]
          },
          "metadata": {},
          "execution_count": 21
        }
      ],
      "source": [
        "pencil_images = os.listdir(\"/content/drive/MyDrive/pencil_images/\")\n",
        "len(pencil_images)"
      ]
    },
    {
      "cell_type": "code",
      "execution_count": 22,
      "metadata": {
        "id": "0sLRO86rzZ2w"
      },
      "outputs": [],
      "source": [
        "import pyheif\n",
        "\n",
        "# function to convert images\n",
        "def convert_images(image_path):\n",
        "  if image_path.split(\".\")[-1] == \"HEIC\" or image_path.split(\".\")[-1] == \"heic\":\n",
        "    heif_file = pyheif.read_heif(image_path)\n",
        "    image = Image.frombytes(\n",
        "        heif_file.mode,\n",
        "        heif_file.size,\n",
        "        heif_file.data,\n",
        "        \"raw\"\n",
        "    )\n",
        "    file_name=image_path.split(\"/\")[-1]\n",
        "    new_name=file_name.split(\".\")[0]\n",
        "    image.save(f\"/content/drive/MyDrive/pencil/{new_name}.png\", format(\"png\"))\n",
        "\n",
        "  else:\n",
        "    file_name=image_path.split(\"/\")[-1]\n",
        "    image = Image.open(image_path)\n",
        "    image.save(f\"/content/drive/MyDrive/pencil/{file_name}\")"
      ]
    },
    {
      "cell_type": "code",
      "execution_count": 23,
      "metadata": {
        "colab": {
          "base_uri": "https://localhost:8080/"
        },
        "id": "d6b3QhkC1wxR",
        "outputId": "2fe8fcbd-cdb8-4e31-e709-3ad379a4854f"
      },
      "outputs": [
        {
          "output_type": "stream",
          "name": "stdout",
          "text": [
            "/content/drive/MyDrive/pencil_images/IMG_9638 (2).HEIC is being converted!\n",
            "/content/drive/MyDrive/pencil_images/IMG_9639 (2).HEIC is being converted!\n",
            "/content/drive/MyDrive/pencil_images/IMG_9637 (2).HEIC is being converted!\n",
            "/content/drive/MyDrive/pencil_images/IMG_9636 (2).HEIC is being converted!\n",
            "/content/drive/MyDrive/pencil_images/IMG_9639 (1).HEIC is being converted!\n",
            "/content/drive/MyDrive/pencil_images/IMG_9639.HEIC is being converted!\n",
            "/content/drive/MyDrive/pencil_images/IMG_9638 (1).HEIC is being converted!\n",
            "/content/drive/MyDrive/pencil_images/IMG_9638.HEIC is being converted!\n",
            "/content/drive/MyDrive/pencil_images/IMG_9637 (1).HEIC is being converted!\n",
            "/content/drive/MyDrive/pencil_images/IMG_9637.HEIC is being converted!\n",
            "/content/drive/MyDrive/pencil_images/IMG_9636 (1).HEIC is being converted!\n",
            "/content/drive/MyDrive/pencil_images/IMG_9636.HEIC is being converted!\n",
            "/content/drive/MyDrive/pencil_images/IMG_9628 (1).HEIC is being converted!\n",
            "/content/drive/MyDrive/pencil_images/IMG_9628.HEIC is being converted!\n",
            "/content/drive/MyDrive/pencil_images/IMG_9609 (1).HEIC is being converted!\n",
            "/content/drive/MyDrive/pencil_images/IMG_9609.HEIC is being converted!\n",
            "/content/drive/MyDrive/pencil_images/IMG_9633 (2).HEIC is being converted!\n",
            "/content/drive/MyDrive/pencil_images/IMG_9633 (1).HEIC is being converted!\n",
            "/content/drive/MyDrive/pencil_images/IMG_9633.HEIC is being converted!\n",
            "/content/drive/MyDrive/pencil_images/IMG_9632 (1).HEIC is being converted!\n",
            "/content/drive/MyDrive/pencil_images/IMG_9632.HEIC is being converted!\n",
            "/content/drive/MyDrive/pencil_images/IMG_9634 (2).HEIC is being converted!\n",
            "/content/drive/MyDrive/pencil_images/IMG_9634 (1).HEIC is being converted!\n",
            "/content/drive/MyDrive/pencil_images/IMG_9634.HEIC is being converted!\n",
            "/content/drive/MyDrive/pencil_images/IMG_9630 (2).HEIC is being converted!\n",
            "/content/drive/MyDrive/pencil_images/IMG_9630 (1).HEIC is being converted!\n",
            "/content/drive/MyDrive/pencil_images/IMG_9630.HEIC is being converted!\n",
            "/content/drive/MyDrive/pencil_images/IMG_9620 (1).HEIC is being converted!\n",
            "/content/drive/MyDrive/pencil_images/IMG_9620.HEIC is being converted!\n",
            "/content/drive/MyDrive/pencil_images/IMG_9635 (2).HEIC is being converted!\n",
            "/content/drive/MyDrive/pencil_images/IMG_9635 (1).HEIC is being converted!\n",
            "/content/drive/MyDrive/pencil_images/IMG_9635.HEIC is being converted!\n",
            "/content/drive/MyDrive/pencil_images/IMG_9623 (1).HEIC is being converted!\n",
            "/content/drive/MyDrive/pencil_images/IMG_9623.HEIC is being converted!\n",
            "/content/drive/MyDrive/pencil_images/IMG_9625 (1).HEIC is being converted!\n",
            "/content/drive/MyDrive/pencil_images/IMG_9625.HEIC is being converted!\n",
            "/content/drive/MyDrive/pencil_images/IMG_9622 (1).HEIC is being converted!\n",
            "/content/drive/MyDrive/pencil_images/IMG_9622.HEIC is being converted!\n",
            "/content/drive/MyDrive/pencil_images/IMG_9629 (2).HEIC is being converted!\n",
            "/content/drive/MyDrive/pencil_images/IMG_9629 (1).HEIC is being converted!\n",
            "/content/drive/MyDrive/pencil_images/IMG_9629.HEIC is being converted!\n",
            "/content/drive/MyDrive/pencil_images/IMG_9612 (1).HEIC is being converted!\n",
            "/content/drive/MyDrive/pencil_images/IMG_9612.HEIC is being converted!\n",
            "/content/drive/MyDrive/pencil_images/IMG_9631 (1).HEIC is being converted!\n",
            "/content/drive/MyDrive/pencil_images/IMG_9631.HEIC is being converted!\n",
            "/content/drive/MyDrive/pencil_images/IMG_9617 (1).HEIC is being converted!\n",
            "/content/drive/MyDrive/pencil_images/IMG_9617.HEIC is being converted!\n",
            "/content/drive/MyDrive/pencil_images/IMG_9624 (1).HEIC is being converted!\n",
            "/content/drive/MyDrive/pencil_images/IMG_9624.HEIC is being converted!\n",
            "/content/drive/MyDrive/pencil_images/IMG_9618 (1).HEIC is being converted!\n",
            "/content/drive/MyDrive/pencil_images/IMG_9618.HEIC is being converted!\n",
            "/content/drive/MyDrive/pencil_images/IMG_9615 (1).HEIC is being converted!\n",
            "/content/drive/MyDrive/pencil_images/IMG_9615.HEIC is being converted!\n",
            "/content/drive/MyDrive/pencil_images/IMG_9642 (2).HEIC is being converted!\n",
            "/content/drive/MyDrive/pencil_images/IMG_9642 (1).HEIC is being converted!\n",
            "/content/drive/MyDrive/pencil_images/IMG_9642.HEIC is being converted!\n",
            "/content/drive/MyDrive/pencil_images/IMG_9644 (2).HEIC is being converted!\n",
            "/content/drive/MyDrive/pencil_images/IMG_9644 (1).HEIC is being converted!\n",
            "/content/drive/MyDrive/pencil_images/IMG_9644.HEIC is being converted!\n",
            "/content/drive/MyDrive/pencil_images/IMG_9641.HEIC is being converted!\n",
            "/content/drive/MyDrive/pencil_images/IMG_9656.HEIC is being converted!\n",
            "/content/drive/MyDrive/pencil_images/IMG_9653.HEIC is being converted!\n",
            "/content/drive/MyDrive/pencil_images/IMG_9645.HEIC is being converted!\n",
            "/content/drive/MyDrive/pencil_images/IMG_9655.HEIC is being converted!\n",
            "/content/drive/MyDrive/pencil_images/IMG_9654.HEIC is being converted!\n",
            "/content/drive/MyDrive/pencil_images/IMG_9648.HEIC is being converted!\n",
            "/content/drive/MyDrive/pencil_images/IMG_9650.HEIC is being converted!\n",
            "/content/drive/MyDrive/pencil_images/IMG_9647.HEIC is being converted!\n",
            "/content/drive/MyDrive/pencil_images/IMG_9651.HEIC is being converted!\n",
            "/content/drive/MyDrive/pencil_images/IMG_9649.HEIC is being converted!\n",
            "/content/drive/MyDrive/pencil_images/IMG_9689.HEIC is being converted!\n",
            "/content/drive/MyDrive/pencil_images/IMG_9687.HEIC is being converted!\n",
            "/content/drive/MyDrive/pencil_images/IMG_9680.HEIC is being converted!\n",
            "/content/drive/MyDrive/pencil_images/IMG_9691.HEIC is being converted!\n",
            "/content/drive/MyDrive/pencil_images/IMG_9685.HEIC is being converted!\n",
            "/content/drive/MyDrive/pencil_images/IMG_9681.HEIC is being converted!\n",
            "/content/drive/MyDrive/pencil_images/IMG_9697.HEIC is being converted!\n",
            "/content/drive/MyDrive/pencil_images/IMG_9682.HEIC is being converted!\n",
            "/content/drive/MyDrive/pencil_images/IMG_9671.HEIC is being converted!\n",
            "/content/drive/MyDrive/pencil_images/IMG_9686.HEIC is being converted!\n",
            "/content/drive/MyDrive/pencil_images/IMG_9698.HEIC is being converted!\n",
            "/content/drive/MyDrive/pencil_images/IMG_9672.HEIC is being converted!\n",
            "/content/drive/MyDrive/pencil_images/IMG_9664.HEIC is being converted!\n",
            "/content/drive/MyDrive/pencil_images/IMG_9670.HEIC is being converted!\n",
            "/content/drive/MyDrive/pencil_images/IMG_9699.HEIC is being converted!\n",
            "/content/drive/MyDrive/pencil_images/IMG_9665.HEIC is being converted!\n",
            "/content/drive/MyDrive/pencil_images/IMG_9696.HEIC is being converted!\n",
            "/content/drive/MyDrive/pencil_images/IMG_9668.HEIC is being converted!\n",
            "/content/drive/MyDrive/pencil_images/IMG_9679.HEIC is being converted!\n",
            "/content/drive/MyDrive/pencil_images/IMG_9700.HEIC is being converted!\n",
            "/content/drive/MyDrive/pencil_images/IMG_9669.HEIC is being converted!\n",
            "/content/drive/MyDrive/pencil_images/IMG_9674.HEIC is being converted!\n",
            "/content/drive/MyDrive/pencil_images/IMG_9677.HEIC is being converted!\n",
            "/content/drive/MyDrive/pencil_images/IMG_9690.HEIC is being converted!\n",
            "/content/drive/MyDrive/pencil_images/IMG_9683.HEIC is being converted!\n",
            "/content/drive/MyDrive/pencil_images/IMG_9678.HEIC is being converted!\n",
            "/content/drive/MyDrive/pencil_images/IMG_9692.HEIC is being converted!\n",
            "/content/drive/MyDrive/pencil_images/IMG_9675.HEIC is being converted!\n",
            "/content/drive/MyDrive/pencil_images/IMG_9666.HEIC is being converted!\n",
            "/content/drive/MyDrive/pencil_images/IMG_9667.HEIC is being converted!\n",
            "/content/drive/MyDrive/pencil_images/IMG_9676.HEIC is being converted!\n",
            "/content/drive/MyDrive/pencil_images/IMG_9673.HEIC is being converted!\n",
            "/content/drive/MyDrive/pencil_images/IMG_9684.HEIC is being converted!\n",
            "/content/drive/MyDrive/pencil_images/IMG_9695.HEIC is being converted!\n",
            "/content/drive/MyDrive/pencil_images/IMG_9693.HEIC is being converted!\n",
            "/content/drive/MyDrive/pencil_images/IMG_9694.HEIC is being converted!\n",
            "/content/drive/MyDrive/pencil_images/IMG_9688.HEIC is being converted!\n",
            "/content/drive/MyDrive/pencil_images/IMG-20230221-WA0109.jpg is being converted!\n",
            "/content/drive/MyDrive/pencil_images/IMG-20230221-WA0107.jpg is being converted!\n",
            "/content/drive/MyDrive/pencil_images/IMG-20230221-WA0102.jpg is being converted!\n",
            "/content/drive/MyDrive/pencil_images/IMG-20230221-WA0096.jpg is being converted!\n",
            "/content/drive/MyDrive/pencil_images/IMG-20230221-WA0104.jpg is being converted!\n",
            "/content/drive/MyDrive/pencil_images/IMG-20230221-WA0106.jpg is being converted!\n",
            "/content/drive/MyDrive/pencil_images/IMG-20230221-WA0089.jpg is being converted!\n",
            "/content/drive/MyDrive/pencil_images/IMG-20230221-WA0066.jpg is being converted!\n",
            "/content/drive/MyDrive/pencil_images/IMG-20230221-WA0181.jpg is being converted!\n",
            "/content/drive/MyDrive/pencil_images/IMG-20230221-WA0182.jpg is being converted!\n",
            "/content/drive/MyDrive/pencil_images/IMG-20230221-WA0180.jpg is being converted!\n",
            "/content/drive/MyDrive/pencil_images/IMG-20230221-WA0179.jpg is being converted!\n",
            "/content/drive/MyDrive/pencil_images/IMG-20230221-WA0175.jpg is being converted!\n",
            "/content/drive/MyDrive/pencil_images/IMG-20230221-WA0176.jpg is being converted!\n",
            "/content/drive/MyDrive/pencil_images/IMG-20230221-WA0172.jpg is being converted!\n",
            "/content/drive/MyDrive/pencil_images/IMG-20230221-WA0174.jpg is being converted!\n",
            "/content/drive/MyDrive/pencil_images/IMG-20230221-WA0173.jpg is being converted!\n",
            "/content/drive/MyDrive/pencil_images/IMG-20230221-WA0178.jpg is being converted!\n",
            "/content/drive/MyDrive/pencil_images/IMG-20230221-WA0177.jpg is being converted!\n",
            "/content/drive/MyDrive/pencil_images/IMG-20230221-WA0171.jpg is being converted!\n",
            "/content/drive/MyDrive/pencil_images/IMG-20230221-WA0170.jpg is being converted!\n",
            "/content/drive/MyDrive/pencil_images/IMG-20230221-WA0164.jpg is being converted!\n",
            "/content/drive/MyDrive/pencil_images/IMG-20230221-WA0162.jpg is being converted!\n",
            "/content/drive/MyDrive/pencil_images/IMG-20230221-WA0161.jpg is being converted!\n",
            "/content/drive/MyDrive/pencil_images/IMG-20230221-WA0167.jpg is being converted!\n",
            "/content/drive/MyDrive/pencil_images/IMG-20230221-WA0169.jpg is being converted!\n",
            "/content/drive/MyDrive/pencil_images/IMG-20230221-WA0168.jpg is being converted!\n",
            "/content/drive/MyDrive/pencil_images/IMG-20230221-WA0166.jpg is being converted!\n",
            "/content/drive/MyDrive/pencil_images/IMG-20230221-WA0165.jpg is being converted!\n",
            "/content/drive/MyDrive/pencil_images/IMG-20230221-WA0163.jpg is being converted!\n",
            "/content/drive/MyDrive/pencil_images/IMG-20230221-WA0160.jpg is being converted!\n",
            "/content/drive/MyDrive/pencil_images/IMG-20230221-WA0158.jpg is being converted!\n",
            "/content/drive/MyDrive/pencil_images/IMG-20230221-WA0156.jpg is being converted!\n",
            "/content/drive/MyDrive/pencil_images/IMG-20230221-WA0159.jpg is being converted!\n",
            "/content/drive/MyDrive/pencil_images/IMG-20230221-WA0157.jpg is being converted!\n",
            "/content/drive/MyDrive/pencil_images/IMG-20230221-WA0155.jpg is being converted!\n",
            "/content/drive/MyDrive/pencil_images/IMG-20230221-WA0153.jpg is being converted!\n",
            "/content/drive/MyDrive/pencil_images/IMG-20230221-WA0154.jpg is being converted!\n",
            "/content/drive/MyDrive/pencil_images/IMG-20230221-WA0152.jpg is being converted!\n",
            "/content/drive/MyDrive/pencil_images/IMG-20230221-WA0151.jpg is being converted!\n",
            "/content/drive/MyDrive/pencil_images/IMG-20230221-WA0149.jpg is being converted!\n",
            "/content/drive/MyDrive/pencil_images/IMG-20230221-WA0148.jpg is being converted!\n",
            "/content/drive/MyDrive/pencil_images/IMG-20230221-WA0150.jpg is being converted!\n",
            "/content/drive/MyDrive/pencil_images/IMG-20230221-WA0146.jpg is being converted!\n",
            "/content/drive/MyDrive/pencil_images/IMG-20230221-WA0147.jpg is being converted!\n",
            "/content/drive/MyDrive/pencil_images/IMG-20230221-WA0145.jpg is being converted!\n",
            "/content/drive/MyDrive/pencil_images/IMG-20230221-WA0144.jpg is being converted!\n",
            "/content/drive/MyDrive/pencil_images/IMG-20230221-WA0143.jpg is being converted!\n",
            "/content/drive/MyDrive/pencil_images/IMG-20230221-WA0142.jpg is being converted!\n",
            "/content/drive/MyDrive/pencil_images/IMG-20230221-WA0140.jpg is being converted!\n",
            "/content/drive/MyDrive/pencil_images/IMG-20230221-WA0141.jpg is being converted!\n",
            "/content/drive/MyDrive/pencil_images/IMG-20230221-WA0139.jpg is being converted!\n",
            "/content/drive/MyDrive/pencil_images/IMG-20230221-WA0136.jpg is being converted!\n",
            "/content/drive/MyDrive/pencil_images/IMG-20230221-WA0135.jpg is being converted!\n",
            "/content/drive/MyDrive/pencil_images/IMG-20230221-WA0134.jpg is being converted!\n",
            "/content/drive/MyDrive/pencil_images/IMG-20230221-WA0132.jpg is being converted!\n",
            "/content/drive/MyDrive/pencil_images/IMG-20230221-WA0133.jpg is being converted!\n",
            "/content/drive/MyDrive/pencil_images/IMG-20230221-WA0131.jpg is being converted!\n",
            "/content/drive/MyDrive/pencil_images/IMG-20230221-WA0128.jpg is being converted!\n",
            "/content/drive/MyDrive/pencil_images/IMG-20230221-WA0130.jpg is being converted!\n",
            "/content/drive/MyDrive/pencil_images/IMG-20230221-WA0127.jpg is being converted!\n",
            "/content/drive/MyDrive/pencil_images/IMG-20230221-WA0129.jpg is being converted!\n",
            "/content/drive/MyDrive/pencil_images/IMG-20230221-WA0126.jpg is being converted!\n",
            "/content/drive/MyDrive/pencil_images/IMG-20230221-WA0125.jpg is being converted!\n",
            "/content/drive/MyDrive/pencil_images/IMG-20230221-WA0124.jpg is being converted!\n",
            "/content/drive/MyDrive/pencil_images/IMG-20230221-WA0123.jpg is being converted!\n",
            "/content/drive/MyDrive/pencil_images/IMG-20230221-WA0122.jpg is being converted!\n",
            "/content/drive/MyDrive/pencil_images/IMG-20230221-WA0121.jpg is being converted!\n",
            "/content/drive/MyDrive/pencil_images/IMG-20230221-WA0120.jpg is being converted!\n",
            "/content/drive/MyDrive/pencil_images/IMG-20230221-WA0119.jpg is being converted!\n",
            "/content/drive/MyDrive/pencil_images/IMG-20230221-WA0118.jpg is being converted!\n",
            "/content/drive/MyDrive/pencil_images/IMG-20230221-WA0117.jpg is being converted!\n",
            "/content/drive/MyDrive/pencil_images/IMG-20230221-WA0114.jpg is being converted!\n",
            "/content/drive/MyDrive/pencil_images/IMG-20230221-WA0113.jpg is being converted!\n",
            "/content/drive/MyDrive/pencil_images/IMG-20230221-WA0111.jpg is being converted!\n",
            "/content/drive/MyDrive/pencil_images/IMG-20230221-WA0110.jpg is being converted!\n",
            "/content/drive/MyDrive/pencil_images/IMG-20230221-WA0112.jpg is being converted!\n",
            "/content/drive/MyDrive/pencil_images/IMG-20230221-WA0094.jpg is being converted!\n",
            "/content/drive/MyDrive/pencil_images/IMG-20230221-WA0105.jpg is being converted!\n",
            "/content/drive/MyDrive/pencil_images/IMG-20230221-WA0108.jpg is being converted!\n",
            "/content/drive/MyDrive/pencil_images/IMG-20230221-WA0101.jpg is being converted!\n",
            "/content/drive/MyDrive/pencil_images/IMG-20230221-WA0100.jpg is being converted!\n",
            "/content/drive/MyDrive/pencil_images/IMG-20230221-WA0093.jpg is being converted!\n",
            "/content/drive/MyDrive/pencil_images/IMG-20230221-WA0099.jpg is being converted!\n",
            "/content/drive/MyDrive/pencil_images/IMG-20230221-WA0095.jpg is being converted!\n",
            "/content/drive/MyDrive/pencil_images/IMG-20230221-WA0092.jpg is being converted!\n",
            "/content/drive/MyDrive/pencil_images/IMG-20230221-WA0098.jpg is being converted!\n",
            "/content/drive/MyDrive/pencil_images/IMG-20230221-WA0090.jpg is being converted!\n",
            "/content/drive/MyDrive/pencil_images/IMG-20230221-WA0083.jpg is being converted!\n",
            "/content/drive/MyDrive/pencil_images/IMG-20230221-WA0087.jpg is being converted!\n",
            "/content/drive/MyDrive/pencil_images/IMG-20230221-WA0088.jpg is being converted!\n",
            "/content/drive/MyDrive/pencil_images/IMG-20230221-WA0086.jpg is being converted!\n",
            "/content/drive/MyDrive/pencil_images/IMG-20230221-WA0085.jpg is being converted!\n",
            "/content/drive/MyDrive/pencil_images/IMG-20230221-WA0091.jpg is being converted!\n",
            "/content/drive/MyDrive/pencil_images/IMG-20230221-WA0084.jpg is being converted!\n",
            "/content/drive/MyDrive/pencil_images/IMG_1971.heic is being converted!\n",
            "/content/drive/MyDrive/pencil_images/IMG_1969.heic is being converted!\n",
            "/content/drive/MyDrive/pencil_images/IMG_1964.heic is being converted!\n",
            "/content/drive/MyDrive/pencil_images/IMG_1970.heic is being converted!\n",
            "/content/drive/MyDrive/pencil_images/IMG_1967.heic is being converted!\n",
            "/content/drive/MyDrive/pencil_images/IMG_1968.heic is being converted!\n",
            "/content/drive/MyDrive/pencil_images/IMG_1963.heic is being converted!\n",
            "/content/drive/MyDrive/pencil_images/IMG_1962.heic is being converted!\n",
            "/content/drive/MyDrive/pencil_images/IMG_1972.heic is being converted!\n",
            "/content/drive/MyDrive/pencil_images/IMG_1966.heic is being converted!\n",
            "/content/drive/MyDrive/pencil_images/IMG_1973.heic is being converted!\n",
            "/content/drive/MyDrive/pencil_images/IMG_1965.heic is being converted!\n",
            "/content/drive/MyDrive/pencil_images/IMG_1974.heic is being converted!\n",
            "/content/drive/MyDrive/pencil_images/IMG_1977.heic is being converted!\n",
            "/content/drive/MyDrive/pencil_images/IMG_1975.heic is being converted!\n",
            "/content/drive/MyDrive/pencil_images/IMG_1976.heic is being converted!\n",
            "/content/drive/MyDrive/pencil_images/IMG_1979.heic is being converted!\n",
            "/content/drive/MyDrive/pencil_images/IMG_1983.heic is being converted!\n",
            "/content/drive/MyDrive/pencil_images/IMG_1984.heic is being converted!\n",
            "/content/drive/MyDrive/pencil_images/IMG_1982.heic is being converted!\n",
            "/content/drive/MyDrive/pencil_images/IMG_1978.heic is being converted!\n",
            "/content/drive/MyDrive/pencil_images/IMG_1980.heic is being converted!\n",
            "/content/drive/MyDrive/pencil_images/IMG_1987.heic is being converted!\n",
            "/content/drive/MyDrive/pencil_images/IMG_1986.heic is being converted!\n",
            "/content/drive/MyDrive/pencil_images/IMG_1985.heic is being converted!\n",
            "/content/drive/MyDrive/pencil_images/IMG_1988.heic is being converted!\n",
            "/content/drive/MyDrive/pencil_images/IMG_1989.heic is being converted!\n",
            "/content/drive/MyDrive/pencil_images/IMG_1992.heic is being converted!\n",
            "/content/drive/MyDrive/pencil_images/IMG_1981.heic is being converted!\n",
            "/content/drive/MyDrive/pencil_images/IMG_1990.heic is being converted!\n",
            "/content/drive/MyDrive/pencil_images/IMG_2013.heic is being converted!\n",
            "/content/drive/MyDrive/pencil_images/IMG_1991 (1).heic is being converted!\n",
            "/content/drive/MyDrive/pencil_images/IMG_1996 (1).heic is being converted!\n",
            "/content/drive/MyDrive/pencil_images/IMG_2002 (1).heic is being converted!\n",
            "/content/drive/MyDrive/pencil_images/IMG_1994 (1).heic is being converted!\n",
            "/content/drive/MyDrive/pencil_images/IMG_1997 (1).heic is being converted!\n",
            "/content/drive/MyDrive/pencil_images/IMG_1993 (1).heic is being converted!\n",
            "/content/drive/MyDrive/pencil_images/IMG_1995 (1).heic is being converted!\n",
            "/content/drive/MyDrive/pencil_images/IMG_1998 (1).heic is being converted!\n",
            "/content/drive/MyDrive/pencil_images/IMG_1999 (1).heic is being converted!\n",
            "/content/drive/MyDrive/pencil_images/IMG_2004 (1).heic is being converted!\n",
            "/content/drive/MyDrive/pencil_images/IMG_1996.heic is being converted!\n",
            "/content/drive/MyDrive/pencil_images/IMG_1997.heic is being converted!\n",
            "/content/drive/MyDrive/pencil_images/IMG_1993.heic is being converted!\n",
            "/content/drive/MyDrive/pencil_images/IMG_2002.heic is being converted!\n",
            "/content/drive/MyDrive/pencil_images/IMG_1995.heic is being converted!\n",
            "/content/drive/MyDrive/pencil_images/IMG_2001.heic is being converted!\n",
            "/content/drive/MyDrive/pencil_images/IMG_1994.heic is being converted!\n",
            "/content/drive/MyDrive/pencil_images/IMG_1998.heic is being converted!\n",
            "/content/drive/MyDrive/pencil_images/IMG_1999.heic is being converted!\n",
            "/content/drive/MyDrive/pencil_images/IMG_1991.heic is being converted!\n",
            "/content/drive/MyDrive/pencil_images/IMG_2003.heic is being converted!\n",
            "/content/drive/MyDrive/pencil_images/IMG_2011.heic is being converted!\n",
            "/content/drive/MyDrive/pencil_images/IMG_2005.heic is being converted!\n",
            "/content/drive/MyDrive/pencil_images/IMG_2006.heic is being converted!\n",
            "/content/drive/MyDrive/pencil_images/IMG_2007.heic is being converted!\n",
            "/content/drive/MyDrive/pencil_images/IMG_2010.heic is being converted!\n",
            "/content/drive/MyDrive/pencil_images/IMG_2012.heic is being converted!\n",
            "/content/drive/MyDrive/pencil_images/IMG_2004.heic is being converted!\n",
            "/content/drive/MyDrive/pencil_images/IMG_2008.heic is being converted!\n",
            "/content/drive/MyDrive/pencil_images/IMG_2009.heic is being converted!\n",
            "/content/drive/MyDrive/pencil_images/IMG_2031.heic is being converted!\n",
            "/content/drive/MyDrive/pencil_images/IMG_2030.heic is being converted!\n",
            "/content/drive/MyDrive/pencil_images/IMG_2024.heic is being converted!\n",
            "/content/drive/MyDrive/pencil_images/IMG_2027.heic is being converted!\n",
            "/content/drive/MyDrive/pencil_images/IMG_2026.heic is being converted!\n",
            "/content/drive/MyDrive/pencil_images/IMG_2028.heic is being converted!\n",
            "/content/drive/MyDrive/pencil_images/IMG_2022.heic is being converted!\n",
            "/content/drive/MyDrive/pencil_images/IMG_2029.heic is being converted!\n",
            "/content/drive/MyDrive/pencil_images/IMG_2023.heic is being converted!\n",
            "/content/drive/MyDrive/pencil_images/IMG_2033.heic is being converted!\n",
            "/content/drive/MyDrive/pencil_images/IMG_2025.heic is being converted!\n",
            "/content/drive/MyDrive/pencil_images/IMG_2032.heic is being converted!\n",
            "/content/drive/MyDrive/pencil_images/IMG_2035.heic is being converted!\n",
            "/content/drive/MyDrive/pencil_images/IMG_2034.heic is being converted!\n",
            "/content/drive/MyDrive/pencil_images/IMG_2038 (1).heic is being converted!\n",
            "/content/drive/MyDrive/pencil_images/IMG_2048.heic is being converted!\n",
            "/content/drive/MyDrive/pencil_images/IMG_2046.heic is being converted!\n",
            "/content/drive/MyDrive/pencil_images/IMG_2050.heic is being converted!\n",
            "/content/drive/MyDrive/pencil_images/IMG_2049.heic is being converted!\n",
            "/content/drive/MyDrive/pencil_images/IMG_2053.heic is being converted!\n",
            "/content/drive/MyDrive/pencil_images/IMG_2051.heic is being converted!\n",
            "/content/drive/MyDrive/pencil_images/IMG_2052.heic is being converted!\n",
            "/content/drive/MyDrive/pencil_images/IMG_2047.heic is being converted!\n",
            "/content/drive/MyDrive/pencil_images/IMG_2038.heic is being converted!\n",
            "/content/drive/MyDrive/pencil_images/IMG_2037.heic is being converted!\n",
            "/content/drive/MyDrive/pencil_images/IMG_2036.heic is being converted!\n",
            "/content/drive/MyDrive/pencil_images/IMG_2039.heic is being converted!\n",
            "/content/drive/MyDrive/pencil_images/IMG_2040.heic is being converted!\n",
            "/content/drive/MyDrive/pencil_images/IMG_2044.heic is being converted!\n",
            "/content/drive/MyDrive/pencil_images/IMG_2042.heic is being converted!\n",
            "/content/drive/MyDrive/pencil_images/IMG_2043.heic is being converted!\n",
            "/content/drive/MyDrive/pencil_images/IMG_2041.heic is being converted!\n",
            "/content/drive/MyDrive/pencil_images/IMG_2045.heic is being converted!\n",
            "/content/drive/MyDrive/pencil_images/IMG_2063.heic is being converted!\n",
            "/content/drive/MyDrive/pencil_images/IMG_2054.heic is being converted!\n",
            "/content/drive/MyDrive/pencil_images/IMG_2062.heic is being converted!\n",
            "/content/drive/MyDrive/pencil_images/IMG_2060.heic is being converted!\n",
            "/content/drive/MyDrive/pencil_images/IMG_2057.heic is being converted!\n",
            "/content/drive/MyDrive/pencil_images/IMG_2056.heic is being converted!\n",
            "/content/drive/MyDrive/pencil_images/IMG_2064.heic is being converted!\n",
            "/content/drive/MyDrive/pencil_images/IMG_2058.heic is being converted!\n",
            "/content/drive/MyDrive/pencil_images/IMG_2061.heic is being converted!\n",
            "/content/drive/MyDrive/pencil_images/IMG_2059.heic is being converted!\n",
            "/content/drive/MyDrive/pencil_images/IMG_2068.heic is being converted!\n",
            "/content/drive/MyDrive/pencil_images/IMG_2066.heic is being converted!\n",
            "/content/drive/MyDrive/pencil_images/IMG_2067.heic is being converted!\n",
            "/content/drive/MyDrive/pencil_images/IMG_2069.heic is being converted!\n",
            "/content/drive/MyDrive/pencil_images/IMG_2065.heic is being converted!\n",
            "/content/drive/MyDrive/pencil_images/IMG_2071.heic is being converted!\n",
            "/content/drive/MyDrive/pencil_images/IMG_2070.heic is being converted!\n",
            "/content/drive/MyDrive/pencil_images/IMG_2073.heic is being converted!\n",
            "/content/drive/MyDrive/pencil_images/IMG_2074.heic is being converted!\n",
            "/content/drive/MyDrive/pencil_images/IMG_2072.heic is being converted!\n",
            "/content/drive/MyDrive/pencil_images/IMG_2075.heic is being converted!\n",
            "/content/drive/MyDrive/pencil_images/IMG_2076.heic is being converted!\n",
            "/content/drive/MyDrive/pencil_images/IMG_2112.heic is being converted!\n",
            "/content/drive/MyDrive/pencil_images/IMG_2115.heic is being converted!\n",
            "/content/drive/MyDrive/pencil_images/IMG_2118.heic is being converted!\n",
            "/content/drive/MyDrive/pencil_images/IMG_2109.heic is being converted!\n",
            "/content/drive/MyDrive/pencil_images/IMG_2110.heic is being converted!\n",
            "/content/drive/MyDrive/pencil_images/IMG_2116.heic is being converted!\n",
            "/content/drive/MyDrive/pencil_images/IMG_2111.heic is being converted!\n",
            "/content/drive/MyDrive/pencil_images/IMG_2114.heic is being converted!\n",
            "/content/drive/MyDrive/pencil_images/IMG_2113.heic is being converted!\n",
            "/content/drive/MyDrive/pencil_images/IMG_2117.heic is being converted!\n",
            "/content/drive/MyDrive/pencil_images/IMG_2121.heic is being converted!\n",
            "/content/drive/MyDrive/pencil_images/IMG_2127.heic is being converted!\n",
            "/content/drive/MyDrive/pencil_images/IMG_2120.heic is being converted!\n",
            "/content/drive/MyDrive/pencil_images/IMG_2119.heic is being converted!\n",
            "/content/drive/MyDrive/pencil_images/IMG_2124.heic is being converted!\n",
            "/content/drive/MyDrive/pencil_images/IMG_2125.heic is being converted!\n",
            "/content/drive/MyDrive/pencil_images/IMG_2126.heic is being converted!\n",
            "/content/drive/MyDrive/pencil_images/IMG_2123.heic is being converted!\n",
            "/content/drive/MyDrive/pencil_images/IMG_2122.heic is being converted!\n",
            "/content/drive/MyDrive/pencil_images/IMG_2128.heic is being converted!\n",
            "/content/drive/MyDrive/pencil_images/IMG_2081.heic is being converted!\n",
            "/content/drive/MyDrive/pencil_images/IMG_2088.heic is being converted!\n",
            "/content/drive/MyDrive/pencil_images/IMG_2085.heic is being converted!\n",
            "/content/drive/MyDrive/pencil_images/IMG_2080.heic is being converted!\n",
            "/content/drive/MyDrive/pencil_images/IMG_2084.heic is being converted!\n",
            "/content/drive/MyDrive/pencil_images/IMG_2087.heic is being converted!\n",
            "/content/drive/MyDrive/pencil_images/IMG_2079.heic is being converted!\n",
            "/content/drive/MyDrive/pencil_images/IMG_2086.heic is being converted!\n",
            "/content/drive/MyDrive/pencil_images/IMG_2082.heic is being converted!\n",
            "/content/drive/MyDrive/pencil_images/IMG_2083.heic is being converted!\n",
            "/content/drive/MyDrive/pencil_images/IMG_2090.heic is being converted!\n",
            "/content/drive/MyDrive/pencil_images/IMG_2089.heic is being converted!\n",
            "/content/drive/MyDrive/pencil_images/IMG_2096.heic is being converted!\n",
            "/content/drive/MyDrive/pencil_images/IMG_2095.heic is being converted!\n",
            "/content/drive/MyDrive/pencil_images/IMG_2097.heic is being converted!\n",
            "/content/drive/MyDrive/pencil_images/IMG_2092.heic is being converted!\n",
            "/content/drive/MyDrive/pencil_images/IMG_2091.heic is being converted!\n",
            "/content/drive/MyDrive/pencil_images/IMG_2094.heic is being converted!\n",
            "/content/drive/MyDrive/pencil_images/IMG_2093.heic is being converted!\n",
            "/content/drive/MyDrive/pencil_images/IMG_2098.heic is being converted!\n",
            "/content/drive/MyDrive/pencil_images/IMG_2101.heic is being converted!\n",
            "/content/drive/MyDrive/pencil_images/IMG_2104.heic is being converted!\n",
            "/content/drive/MyDrive/pencil_images/IMG_2106.heic is being converted!\n",
            "/content/drive/MyDrive/pencil_images/IMG_2102.heic is being converted!\n",
            "/content/drive/MyDrive/pencil_images/IMG_2105.heic is being converted!\n",
            "/content/drive/MyDrive/pencil_images/IMG_2103.heic is being converted!\n",
            "/content/drive/MyDrive/pencil_images/IMG_2099.heic is being converted!\n",
            "/content/drive/MyDrive/pencil_images/IMG_2100.heic is being converted!\n",
            "/content/drive/MyDrive/pencil_images/IMG_2107.heic is being converted!\n",
            "/content/drive/MyDrive/pencil_images/IMG_2108.heic is being converted!\n"
          ]
        }
      ],
      "source": [
        "for file in pencil_images:\n",
        "  path = os.path.join(\"/content/drive/MyDrive/pencil_images/\", file)\n",
        "  print(path, \"is being converted!\")\n",
        "  convert_images(path)"
      ]
    },
    {
      "cell_type": "code",
      "source": [
        "len(os.listdir(\"/content/drive/MyDrive/pencils/\"))"
      ],
      "metadata": {
        "colab": {
          "base_uri": "https://localhost:8080/"
        },
        "id": "b0Xd4b_BAE3V",
        "outputId": "59a2bac8-2c75-42f5-f0bc-0270b23915ac"
      },
      "execution_count": 24,
      "outputs": [
        {
          "output_type": "execute_result",
          "data": {
            "text/plain": [
              "368"
            ]
          },
          "metadata": {},
          "execution_count": 24
        }
      ]
    },
    {
      "cell_type": "code",
      "source": [
        "# load image via tf.io\n",
        "img = tf.io.read_file(\"/content/drive/MyDrive/pencils/IMG-20230221-WA0066.jpg\")\n",
        "\n",
        "# convert to tensor (specify 3 channels explicitly since png files contains additional alpha channel)\n",
        "# set the dtypes to align with pytorch for comparison since it will use uint8 by default\n",
        "tensor = tf.io.decode_image(img, channels=3, dtype=tf.dtypes.float32)\n",
        "# (384, 470, 3)\n",
        "\n",
        "# resize tensor to 224 x 224\n",
        "tensor = tf.image.resize(tensor, [224, 224])\n",
        "# (224, 224, 3)\n",
        "\n",
        "# add another dimension at the front to get NHWC shape\n",
        "input_tensor = tf.expand_dims(tensor, axis=0)"
      ],
      "metadata": {
        "id": "dTYPuhhhIyN7"
      },
      "execution_count": 25,
      "outputs": []
    },
    {
      "cell_type": "code",
      "source": [
        "def convert_tensor(file, channels=3, shape=[224,224]):\n",
        "  img = tf.io.read_file(file)\n",
        "  tensor = tf.io.decode_image(img, channels=channels, dtype=tf.dtypes.float32)\n",
        "  tensor = tf.image.resize(tensor, shape)\n",
        "  input_tensor = tf.expand_dims(tensor, axis=0)\n",
        "  return input_tensor"
      ],
      "metadata": {
        "colab": {
          "base_uri": "https://localhost:8080/"
        },
        "id": "moSVCu1PJDwo",
        "outputId": "349dea49-3021-45d3-e14e-631406b26f22"
      },
      "execution_count": 27,
      "outputs": [
        {
          "output_type": "execute_result",
          "data": {
            "text/plain": [
              "<tf.Tensor: shape=(1, 224, 224, 3), dtype=float32, numpy=\n",
              "array([[[[0.6431373 , 0.6313726 , 0.6039216 ],\n",
              "         [0.6677521 , 0.6559874 , 0.6285364 ],\n",
              "         [0.6466037 , 0.6466037 , 0.61523116],\n",
              "         ...,\n",
              "         [0.65159553, 0.6370294 , 0.61097914],\n",
              "         [0.63931715, 0.631404  , 0.61179614],\n",
              "         [0.6482465 , 0.64033335, 0.6207255 ]],\n",
              "\n",
              "        [[0.65168065, 0.63991594, 0.61246496],\n",
              "         [0.66190475, 0.65014005, 0.62268907],\n",
              "         [0.658686  , 0.658686  , 0.62731344],\n",
              "         ...,\n",
              "         [0.6852333 , 0.6706672 , 0.6446169 ],\n",
              "         [0.6650566 , 0.6491602 , 0.6316182 ],\n",
              "         [0.64425004, 0.6283537 , 0.6108117 ]],\n",
              "\n",
              "        [[0.6648109 , 0.6530462 , 0.6255952 ],\n",
              "         [0.6466762 , 0.6349115 , 0.6074605 ],\n",
              "         [0.6527311 , 0.6527311 , 0.6213586 ],\n",
              "         ...,\n",
              "         [0.60168844, 0.5871223 , 0.56107205],\n",
              "         [0.69954985, 0.67353445, 0.65998405],\n",
              "         [0.6904187 , 0.6644033 , 0.6508529 ]],\n",
              "\n",
              "        ...,\n",
              "\n",
              "        [[0.6472889 , 0.6355242 , 0.6159164 ],\n",
              "         [0.6260576 , 0.6142929 , 0.5946851 ],\n",
              "         [0.6526885 , 0.6409238 , 0.6134728 ],\n",
              "         ...,\n",
              "         [0.6193904 , 0.6076257 , 0.5723316 ],\n",
              "         [0.6587943 , 0.6470296 , 0.61173546],\n",
              "         [0.64190376, 0.63013905, 0.59484494]],\n",
              "\n",
              "        [[0.6453657 , 0.633601  , 0.61399317],\n",
              "         [0.65799844, 0.64623374, 0.6266259 ],\n",
              "         [0.6381678 , 0.6264031 , 0.5989521 ],\n",
              "         ...,\n",
              "         [0.615304  , 0.6035393 , 0.5682452 ],\n",
              "         [0.65115494, 0.63939023, 0.6040961 ],\n",
              "         [0.73773104, 0.72596633, 0.6906722 ]],\n",
              "\n",
              "        [[0.71421677, 0.70245206, 0.6828442 ],\n",
              "         [0.64712095, 0.63535625, 0.6157484 ],\n",
              "         [0.66210264, 0.6660242 , 0.6424948 ],\n",
              "         ...,\n",
              "         [0.5736692 , 0.5619045 , 0.5266104 ],\n",
              "         [0.6356296 , 0.62778646, 0.58072764],\n",
              "         [0.6528339 , 0.64499074, 0.5979319 ]]]], dtype=float32)>"
            ]
          },
          "metadata": {},
          "execution_count": 27
        }
      ]
    },
    {
      "cell_type": "code",
      "source": [],
      "metadata": {
        "id": "iQ0vQdaGJEf8"
      },
      "execution_count": null,
      "outputs": []
    }
  ],
  "metadata": {
    "colab": {
      "provenance": []
    },
    "kernelspec": {
      "display_name": "Python 3",
      "name": "python3"
    },
    "language_info": {
      "name": "python"
    }
  },
  "nbformat": 4,
  "nbformat_minor": 0
}